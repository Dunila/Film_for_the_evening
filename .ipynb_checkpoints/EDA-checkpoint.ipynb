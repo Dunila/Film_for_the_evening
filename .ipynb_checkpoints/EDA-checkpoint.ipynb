{
 "cells": [
  {
   "cell_type": "code",
   "execution_count": 1,
   "id": "0153009f-dbac-4900-9e3e-add13b735ea7",
   "metadata": {},
   "outputs": [],
   "source": [
    "import pandas as pd\n",
    "import numpy as np\n",
    "import sqlite3\n",
    "import json\n",
    "\n",
    "import matplotlib.pyplot as plt\n",
    "import seaborn as sns"
   ]
  },
  {
   "cell_type": "code",
   "execution_count": 2,
   "id": "009ab43f-30a8-4d30-a1ae-5e1ffd823566",
   "metadata": {},
   "outputs": [],
   "source": [
    "DB_PATH = \"C:/Users/danil/Desktop/infa/Movie-for-the-evening/data/parsed_data.db\"\n",
    "\n",
    "# Подключение к базе\n",
    "conn = sqlite3.connect(DB_PATH)\n",
    "\n",
    "# Чтение таблицы Users\n",
    "df_users = pd.read_sql_query(\"SELECT * FROM Users\", conn)\n",
    "\n",
    "# Чтение таблицы Ratings\n",
    "df_ratings = pd.read_sql_query(\"SELECT * FROM Ratings\", conn)\n",
    "\n",
    "# Закрываем соединение\n",
    "conn.close()\n"
   ]
  },
  {
   "cell_type": "code",
   "execution_count": 5,
   "id": "46ac493f-c032-448e-8c8a-cbaac70ba0fc",
   "metadata": {},
   "outputs": [
    {
     "data": {
      "text/html": [
       "<div>\n",
       "<style scoped>\n",
       "    .dataframe tbody tr th:only-of-type {\n",
       "        vertical-align: middle;\n",
       "    }\n",
       "\n",
       "    .dataframe tbody tr th {\n",
       "        vertical-align: top;\n",
       "    }\n",
       "\n",
       "    .dataframe thead th {\n",
       "        text-align: right;\n",
       "    }\n",
       "</style>\n",
       "<table border=\"1\" class=\"dataframe\">\n",
       "  <thead>\n",
       "    <tr style=\"text-align: right;\">\n",
       "      <th></th>\n",
       "      <th>user</th>\n",
       "      <th>liked</th>\n",
       "      <th>film</th>\n",
       "      <th>reviewed</th>\n",
       "      <th>rating</th>\n",
       "    </tr>\n",
       "  </thead>\n",
       "  <tbody>\n",
       "    <tr>\n",
       "      <th>959057</th>\n",
       "      <td>bigthomyorke</td>\n",
       "      <td>1</td>\n",
       "      <td>its-a-wonderful-life</td>\n",
       "      <td>1</td>\n",
       "      <td>9</td>\n",
       "    </tr>\n",
       "    <tr>\n",
       "      <th>959058</th>\n",
       "      <td>bigthomyorke</td>\n",
       "      <td>0</td>\n",
       "      <td>citizen-kane</td>\n",
       "      <td>0</td>\n",
       "      <td>6</td>\n",
       "    </tr>\n",
       "    <tr>\n",
       "      <th>959059</th>\n",
       "      <td>bigthomyorke</td>\n",
       "      <td>1</td>\n",
       "      <td>the-cookie-carnival</td>\n",
       "      <td>0</td>\n",
       "      <td>10</td>\n",
       "    </tr>\n",
       "    <tr>\n",
       "      <th>959060</th>\n",
       "      <td>bigthomyorke</td>\n",
       "      <td>1</td>\n",
       "      <td>m</td>\n",
       "      <td>0</td>\n",
       "      <td>7</td>\n",
       "    </tr>\n",
       "    <tr>\n",
       "      <th>959061</th>\n",
       "      <td>bigthomyorke</td>\n",
       "      <td>0</td>\n",
       "      <td>the-birth-of-a-nation</td>\n",
       "      <td>0</td>\n",
       "      <td>1</td>\n",
       "    </tr>\n",
       "  </tbody>\n",
       "</table>\n",
       "</div>"
      ],
      "text/plain": [
       "                user  liked                   film  reviewed  rating\n",
       "959057  bigthomyorke      1   its-a-wonderful-life         1       9\n",
       "959058  bigthomyorke      0           citizen-kane         0       6\n",
       "959059  bigthomyorke      1    the-cookie-carnival         0      10\n",
       "959060  bigthomyorke      1                      m         0       7\n",
       "959061  bigthomyorke      0  the-birth-of-a-nation         0       1"
      ]
     },
     "execution_count": 5,
     "metadata": {},
     "output_type": "execute_result"
    }
   ],
   "source": [
    "df_ratings.tail()"
   ]
  },
  {
   "cell_type": "markdown",
   "id": "fafa0579-5a2c-483e-84b4-59bb940b7a90",
   "metadata": {},
   "source": [
    "# Films"
   ]
  },
  {
   "cell_type": "code",
   "execution_count": 2,
   "id": "ff5f4c8e-e1cf-4e92-b51f-3bf55101a16c",
   "metadata": {},
   "outputs": [
    {
     "name": "stdout",
     "output_type": "stream",
     "text": [
      "35500\n"
     ]
    }
   ],
   "source": [
    "films = []\n",
    "for i in range(1, 72):\n",
    "    with open(f\"data\\\\lb_films\\\\parsed_films_checkpoint{i}.json\", \"r\") as f:\n",
    "        films1 = json.loads(f.read())\n",
    "    films.extend(films1)\n",
    "print(len(films))"
   ]
  },
  {
   "cell_type": "code",
   "execution_count": 3,
   "id": "7051cca8-a901-4f60-ada2-f6c9da951241",
   "metadata": {},
   "outputs": [],
   "source": [
    "df_films = pd.DataFrame(films)"
   ]
  },
  {
   "cell_type": "code",
   "execution_count": 4,
   "id": "19b5269e-10f0-4709-aba7-34eae5e8ab1d",
   "metadata": {},
   "outputs": [
    {
     "data": {
      "text/plain": [
       "(35500, 31)"
      ]
     },
     "execution_count": 4,
     "metadata": {},
     "output_type": "execute_result"
    }
   ],
   "source": [
    "df_films.shape"
   ]
  },
  {
   "cell_type": "code",
   "execution_count": 5,
   "id": "aa287269-ca07-4c98-a3bf-23bf8338e7d1",
   "metadata": {},
   "outputs": [],
   "source": [
    "pd.set_option('display.max_columns', 31)"
   ]
  },
  {
   "cell_type": "code",
   "execution_count": 6,
   "id": "c9f9c637-a04e-4bb0-bad8-367e5f2b0a31",
   "metadata": {},
   "outputs": [
    {
     "data": {
      "text/html": [
       "<div>\n",
       "<style scoped>\n",
       "    .dataframe tbody tr th:only-of-type {\n",
       "        vertical-align: middle;\n",
       "    }\n",
       "\n",
       "    .dataframe tbody tr th {\n",
       "        vertical-align: top;\n",
       "    }\n",
       "\n",
       "    .dataframe thead th {\n",
       "        text-align: right;\n",
       "    }\n",
       "</style>\n",
       "<table border=\"1\" class=\"dataframe\">\n",
       "  <thead>\n",
       "    <tr style=\"text-align: right;\">\n",
       "      <th></th>\n",
       "      <th>name</th>\n",
       "      <th>year</th>\n",
       "      <th>description</th>\n",
       "      <th>1</th>\n",
       "      <th>2</th>\n",
       "      <th>3</th>\n",
       "      <th>4</th>\n",
       "      <th>5</th>\n",
       "      <th>6</th>\n",
       "      <th>7</th>\n",
       "      <th>8</th>\n",
       "      <th>9</th>\n",
       "      <th>10</th>\n",
       "      <th>rating</th>\n",
       "      <th>watched</th>\n",
       "      <th>liked</th>\n",
       "      <th>top</th>\n",
       "      <th>popular_reviews</th>\n",
       "      <th>tagline</th>\n",
       "      <th>duration</th>\n",
       "      <th>actors</th>\n",
       "      <th>director</th>\n",
       "      <th>writer</th>\n",
       "      <th>producer</th>\n",
       "      <th>cinematography</th>\n",
       "      <th>composer</th>\n",
       "      <th>studio</th>\n",
       "      <th>country</th>\n",
       "      <th>genres</th>\n",
       "      <th>themes</th>\n",
       "      <th>link</th>\n",
       "    </tr>\n",
       "  </thead>\n",
       "  <tbody>\n",
       "    <tr>\n",
       "      <th>0</th>\n",
       "      <td>Barbie</td>\n",
       "      <td>2023.0</td>\n",
       "      <td>Barbie and Ken are having the time of their li...</td>\n",
       "      <td>19815.0</td>\n",
       "      <td>46092.0</td>\n",
       "      <td>29452.0</td>\n",
       "      <td>156921.0</td>\n",
       "      <td>151069.0</td>\n",
       "      <td>629766.0</td>\n",
       "      <td>556874.0</td>\n",
       "      <td>1146076.0</td>\n",
       "      <td>409547.0</td>\n",
       "      <td>944956.0</td>\n",
       "      <td>7.72</td>\n",
       "      <td>5.2M</td>\n",
       "      <td>2.1M</td>\n",
       "      <td>None</td>\n",
       "      <td>[s(he's) bro(ken), can someone please check on...</td>\n",
       "      <td>She’s everything. He’s just Ken.</td>\n",
       "      <td>114.0</td>\n",
       "      <td>[Margot Robbie, Ryan Gosling, America Ferrera,...</td>\n",
       "      <td>Greta Gerwig</td>\n",
       "      <td>Noah Baumbach</td>\n",
       "      <td>Robbie Brenner</td>\n",
       "      <td>Rodrigo Prieto</td>\n",
       "      <td>Andrew Wyatt</td>\n",
       "      <td>[LuckyChap Entertainment, Heyday Films, NB/GG ...</td>\n",
       "      <td>[UK, USA]</td>\n",
       "      <td>[Comedy, Adventure]</td>\n",
       "      <td>[Humanity and the world around us, Crude humor...</td>\n",
       "      <td>https://letterboxd.com/film/barbie/</td>\n",
       "    </tr>\n",
       "    <tr>\n",
       "      <th>1</th>\n",
       "      <td>Parasite</td>\n",
       "      <td>2019.0</td>\n",
       "      <td>All unemployed, Ki-taek’s family takes peculia...</td>\n",
       "      <td>3323.0</td>\n",
       "      <td>7856.0</td>\n",
       "      <td>3359.0</td>\n",
       "      <td>22721.0</td>\n",
       "      <td>18912.0</td>\n",
       "      <td>133783.0</td>\n",
       "      <td>155354.0</td>\n",
       "      <td>801802.0</td>\n",
       "      <td>642917.0</td>\n",
       "      <td>2010232.0</td>\n",
       "      <td>9.05</td>\n",
       "      <td>5M</td>\n",
       "      <td>2.7M</td>\n",
       "      <td>9</td>\n",
       "      <td>[Update: Now in video formThere is a house on ...</td>\n",
       "      <td>Act like you own the place.</td>\n",
       "      <td>133.0</td>\n",
       "      <td>[Song Kang-ho, Lee Sun-kyun, Cho Yeo-jeong, Ch...</td>\n",
       "      <td>Bong Joon Ho</td>\n",
       "      <td>Kim Dae-hwan</td>\n",
       "      <td>Jang Young-hwan</td>\n",
       "      <td>Hong Kyung-pyo</td>\n",
       "      <td>Jung Jae-il</td>\n",
       "      <td>[Barunson E&amp;A]</td>\n",
       "      <td>[South Korea]</td>\n",
       "      <td>[Comedy, Thriller, Drama]</td>\n",
       "      <td>[Humanity and the world around us, Intense vio...</td>\n",
       "      <td>https://letterboxd.com/film/parasite-2019/</td>\n",
       "    </tr>\n",
       "    <tr>\n",
       "      <th>2</th>\n",
       "      <td>Interstellar</td>\n",
       "      <td>2014.0</td>\n",
       "      <td>The adventures of a group of explorers who mak...</td>\n",
       "      <td>5543.0</td>\n",
       "      <td>14091.0</td>\n",
       "      <td>7183.0</td>\n",
       "      <td>46427.0</td>\n",
       "      <td>36925.0</td>\n",
       "      <td>204718.0</td>\n",
       "      <td>203485.0</td>\n",
       "      <td>728838.0</td>\n",
       "      <td>530882.0</td>\n",
       "      <td>1922478.0</td>\n",
       "      <td>8.89</td>\n",
       "      <td>5M</td>\n",
       "      <td>2.4M</td>\n",
       "      <td>52</td>\n",
       "      <td>[tell me you wouldn't cry too if your son grow...</td>\n",
       "      <td>Mankind was born on Earth. It was never meant ...</td>\n",
       "      <td>169.0</td>\n",
       "      <td>[Matthew McConaughey, Anne Hathaway, Michael C...</td>\n",
       "      <td>Christopher Nolan</td>\n",
       "      <td>Jonathan Nolan</td>\n",
       "      <td>Lynda Obst</td>\n",
       "      <td>Hoyte van Hoytema</td>\n",
       "      <td>Hans Zimmer</td>\n",
       "      <td>[Legendary Pictures, Syncopy, Lynda Obst Produ...</td>\n",
       "      <td>[UK, USA]</td>\n",
       "      <td>[Science Fiction, Drama, Adventure]</td>\n",
       "      <td>[Monsters, aliens, sci-fi and the apocalypse, ...</td>\n",
       "      <td>https://letterboxd.com/film/interstellar/</td>\n",
       "    </tr>\n",
       "    <tr>\n",
       "      <th>3</th>\n",
       "      <td>Fight Club</td>\n",
       "      <td>1999.0</td>\n",
       "      <td>A ticking-time-bomb insomniac and a slippery s...</td>\n",
       "      <td>5027.0</td>\n",
       "      <td>13309.0</td>\n",
       "      <td>6685.0</td>\n",
       "      <td>44141.0</td>\n",
       "      <td>37583.0</td>\n",
       "      <td>244093.0</td>\n",
       "      <td>263380.0</td>\n",
       "      <td>1000560.0</td>\n",
       "      <td>572952.0</td>\n",
       "      <td>1393347.0</td>\n",
       "      <td>8.61</td>\n",
       "      <td>5.1M</td>\n",
       "      <td>2.3M</td>\n",
       "      <td>181</td>\n",
       "      <td>[first watch: fight club is the best movie eve...</td>\n",
       "      <td>Mischief. Mayhem. Soap.</td>\n",
       "      <td>139.0</td>\n",
       "      <td>[Edward Norton, Brad Pitt, Helena Bonham Carte...</td>\n",
       "      <td>David Fincher</td>\n",
       "      <td>Jim Uhls</td>\n",
       "      <td>Art Linson</td>\n",
       "      <td>Jeff Cronenweth</td>\n",
       "      <td>John King</td>\n",
       "      <td>[Fox 2000 Pictures, Regency Enterprises, Linso...</td>\n",
       "      <td>[Germany, USA]</td>\n",
       "      <td>[Drama]</td>\n",
       "      <td>[Intense violence and sexual transgression, Hu...</td>\n",
       "      <td>https://letterboxd.com/film/fight-club/</td>\n",
       "    </tr>\n",
       "    <tr>\n",
       "      <th>4</th>\n",
       "      <td>La La Land</td>\n",
       "      <td>2016.0</td>\n",
       "      <td>Mia, an aspiring actress, serves lattes to mov...</td>\n",
       "      <td>14471.0</td>\n",
       "      <td>44167.0</td>\n",
       "      <td>15291.0</td>\n",
       "      <td>106473.0</td>\n",
       "      <td>61872.0</td>\n",
       "      <td>318154.0</td>\n",
       "      <td>247374.0</td>\n",
       "      <td>760376.0</td>\n",
       "      <td>404405.0</td>\n",
       "      <td>1247646.0</td>\n",
       "      <td>8.30</td>\n",
       "      <td>4.4M</td>\n",
       "      <td>2M</td>\n",
       "      <td>None</td>\n",
       "      <td>[this cured my depression and brought it back ...</td>\n",
       "      <td>Here’s to the fools who dream.</td>\n",
       "      <td>129.0</td>\n",
       "      <td>[Ryan Gosling, Emma Stone, John Legend, Rosema...</td>\n",
       "      <td>Damien Chazelle</td>\n",
       "      <td>Damien Chazelle</td>\n",
       "      <td>Jordan Horowitz</td>\n",
       "      <td>Linus Sandgren</td>\n",
       "      <td>Justin Hurwitz</td>\n",
       "      <td>[Summit Entertainment, Gilbert Films, Impostor...</td>\n",
       "      <td>[USA]</td>\n",
       "      <td>[Drama, Comedy, Music, Romance]</td>\n",
       "      <td>[Song and dance, Humanity and the world around...</td>\n",
       "      <td>https://letterboxd.com/film/la-la-land/</td>\n",
       "    </tr>\n",
       "  </tbody>\n",
       "</table>\n",
       "</div>"
      ],
      "text/plain": [
       "           name    year                                        description  \\\n",
       "0        Barbie  2023.0  Barbie and Ken are having the time of their li...   \n",
       "1      Parasite  2019.0  All unemployed, Ki-taek’s family takes peculia...   \n",
       "2  Interstellar  2014.0  The adventures of a group of explorers who mak...   \n",
       "3    Fight Club  1999.0  A ticking-time-bomb insomniac and a slippery s...   \n",
       "4    La La Land  2016.0  Mia, an aspiring actress, serves lattes to mov...   \n",
       "\n",
       "         1        2        3         4         5         6         7  \\\n",
       "0  19815.0  46092.0  29452.0  156921.0  151069.0  629766.0  556874.0   \n",
       "1   3323.0   7856.0   3359.0   22721.0   18912.0  133783.0  155354.0   \n",
       "2   5543.0  14091.0   7183.0   46427.0   36925.0  204718.0  203485.0   \n",
       "3   5027.0  13309.0   6685.0   44141.0   37583.0  244093.0  263380.0   \n",
       "4  14471.0  44167.0  15291.0  106473.0   61872.0  318154.0  247374.0   \n",
       "\n",
       "           8         9         10  rating watched liked   top  \\\n",
       "0  1146076.0  409547.0   944956.0    7.72    5.2M  2.1M  None   \n",
       "1   801802.0  642917.0  2010232.0    9.05      5M  2.7M     9   \n",
       "2   728838.0  530882.0  1922478.0    8.89      5M  2.4M    52   \n",
       "3  1000560.0  572952.0  1393347.0    8.61    5.1M  2.3M   181   \n",
       "4   760376.0  404405.0  1247646.0    8.30    4.4M    2M  None   \n",
       "\n",
       "                                     popular_reviews  \\\n",
       "0  [s(he's) bro(ken), can someone please check on...   \n",
       "1  [Update: Now in video formThere is a house on ...   \n",
       "2  [tell me you wouldn't cry too if your son grow...   \n",
       "3  [first watch: fight club is the best movie eve...   \n",
       "4  [this cured my depression and brought it back ...   \n",
       "\n",
       "                                             tagline  duration  \\\n",
       "0                   She’s everything. He’s just Ken.     114.0   \n",
       "1                        Act like you own the place.     133.0   \n",
       "2  Mankind was born on Earth. It was never meant ...     169.0   \n",
       "3                            Mischief. Mayhem. Soap.     139.0   \n",
       "4                     Here’s to the fools who dream.     129.0   \n",
       "\n",
       "                                              actors           director  \\\n",
       "0  [Margot Robbie, Ryan Gosling, America Ferrera,...       Greta Gerwig   \n",
       "1  [Song Kang-ho, Lee Sun-kyun, Cho Yeo-jeong, Ch...       Bong Joon Ho   \n",
       "2  [Matthew McConaughey, Anne Hathaway, Michael C...  Christopher Nolan   \n",
       "3  [Edward Norton, Brad Pitt, Helena Bonham Carte...      David Fincher   \n",
       "4  [Ryan Gosling, Emma Stone, John Legend, Rosema...    Damien Chazelle   \n",
       "\n",
       "            writer         producer     cinematography        composer  \\\n",
       "0    Noah Baumbach   Robbie Brenner     Rodrigo Prieto    Andrew Wyatt   \n",
       "1     Kim Dae-hwan  Jang Young-hwan     Hong Kyung-pyo     Jung Jae-il   \n",
       "2   Jonathan Nolan       Lynda Obst  Hoyte van Hoytema     Hans Zimmer   \n",
       "3         Jim Uhls       Art Linson    Jeff Cronenweth       John King   \n",
       "4  Damien Chazelle  Jordan Horowitz     Linus Sandgren  Justin Hurwitz   \n",
       "\n",
       "                                              studio         country  \\\n",
       "0  [LuckyChap Entertainment, Heyday Films, NB/GG ...       [UK, USA]   \n",
       "1                                     [Barunson E&A]   [South Korea]   \n",
       "2  [Legendary Pictures, Syncopy, Lynda Obst Produ...       [UK, USA]   \n",
       "3  [Fox 2000 Pictures, Regency Enterprises, Linso...  [Germany, USA]   \n",
       "4  [Summit Entertainment, Gilbert Films, Impostor...           [USA]   \n",
       "\n",
       "                                genres  \\\n",
       "0                  [Comedy, Adventure]   \n",
       "1            [Comedy, Thriller, Drama]   \n",
       "2  [Science Fiction, Drama, Adventure]   \n",
       "3                              [Drama]   \n",
       "4      [Drama, Comedy, Music, Romance]   \n",
       "\n",
       "                                              themes  \\\n",
       "0  [Humanity and the world around us, Crude humor...   \n",
       "1  [Humanity and the world around us, Intense vio...   \n",
       "2  [Monsters, aliens, sci-fi and the apocalypse, ...   \n",
       "3  [Intense violence and sexual transgression, Hu...   \n",
       "4  [Song and dance, Humanity and the world around...   \n",
       "\n",
       "                                         link  \n",
       "0         https://letterboxd.com/film/barbie/  \n",
       "1  https://letterboxd.com/film/parasite-2019/  \n",
       "2   https://letterboxd.com/film/interstellar/  \n",
       "3     https://letterboxd.com/film/fight-club/  \n",
       "4     https://letterboxd.com/film/la-la-land/  "
      ]
     },
     "execution_count": 6,
     "metadata": {},
     "output_type": "execute_result"
    }
   ],
   "source": [
    "df_films.head()"
   ]
  },
  {
   "cell_type": "markdown",
   "id": "88f05cfa-7d95-4fd8-9c44-4b7f24ee1d40",
   "metadata": {},
   "source": [
    "Films are sorted by popularity"
   ]
  },
  {
   "cell_type": "code",
   "execution_count": 7,
   "id": "b1ef5dcc-8590-41bc-af54-c1a79d840707",
   "metadata": {},
   "outputs": [],
   "source": [
    "df_films = df_films.sample(frac=1)"
   ]
  },
  {
   "cell_type": "code",
   "execution_count": 8,
   "id": "0c57de04-51bb-466d-95b3-c9b5956fc9e4",
   "metadata": {
    "scrolled": true
   },
   "outputs": [
    {
     "name": "stdout",
     "output_type": "stream",
     "text": [
      "<class 'pandas.core.frame.DataFrame'>\n",
      "Index: 35500 entries, 21862 to 32054\n",
      "Data columns (total 31 columns):\n",
      " #   Column           Non-Null Count  Dtype  \n",
      "---  ------           --------------  -----  \n",
      " 0   name             35489 non-null  object \n",
      " 1   year             35371 non-null  float64\n",
      " 2   description      35470 non-null  object \n",
      " 3   1                33417 non-null  float64\n",
      " 4   2                33417 non-null  float64\n",
      " 5   3                33417 non-null  float64\n",
      " 6   4                33417 non-null  float64\n",
      " 7   5                33417 non-null  float64\n",
      " 8   6                33417 non-null  float64\n",
      " 9   7                33417 non-null  float64\n",
      " 10  8                33413 non-null  float64\n",
      " 11  9                33380 non-null  float64\n",
      " 12  10               32906 non-null  float64\n",
      " 13  rating           33417 non-null  float64\n",
      " 14  watched          33486 non-null  object \n",
      " 15  liked            33486 non-null  object \n",
      " 16  top              249 non-null    object \n",
      " 17  popular_reviews  35500 non-null  object \n",
      " 18  tagline          21824 non-null  object \n",
      " 19  duration         35093 non-null  float64\n",
      " 20  actors           35500 non-null  object \n",
      " 21  director         35373 non-null  object \n",
      " 22  writer           32397 non-null  object \n",
      " 23  producer         31133 non-null  object \n",
      " 24  cinematography   30647 non-null  object \n",
      " 25  composer         28404 non-null  object \n",
      " 26  studio           35500 non-null  object \n",
      " 27  country          35500 non-null  object \n",
      " 28  genres           35500 non-null  object \n",
      " 29  themes           35500 non-null  object \n",
      " 30  link             35500 non-null  object \n",
      "dtypes: float64(13), object(18)\n",
      "memory usage: 8.7+ MB\n"
     ]
    }
   ],
   "source": [
    "df_films.info()"
   ]
  },
  {
   "cell_type": "code",
   "execution_count": 9,
   "id": "a3967157-f5c9-41aa-9e7f-2c7c0e77d01b",
   "metadata": {},
   "outputs": [
    {
     "data": {
      "text/html": [
       "<div>\n",
       "<style scoped>\n",
       "    .dataframe tbody tr th:only-of-type {\n",
       "        vertical-align: middle;\n",
       "    }\n",
       "\n",
       "    .dataframe tbody tr th {\n",
       "        vertical-align: top;\n",
       "    }\n",
       "\n",
       "    .dataframe thead th {\n",
       "        text-align: right;\n",
       "    }\n",
       "</style>\n",
       "<table border=\"1\" class=\"dataframe\">\n",
       "  <thead>\n",
       "    <tr style=\"text-align: right;\">\n",
       "      <th></th>\n",
       "      <th>name</th>\n",
       "      <th>year</th>\n",
       "      <th>description</th>\n",
       "      <th>1</th>\n",
       "      <th>2</th>\n",
       "      <th>3</th>\n",
       "      <th>4</th>\n",
       "      <th>5</th>\n",
       "      <th>6</th>\n",
       "      <th>7</th>\n",
       "      <th>8</th>\n",
       "      <th>9</th>\n",
       "      <th>10</th>\n",
       "      <th>rating</th>\n",
       "      <th>watched</th>\n",
       "      <th>liked</th>\n",
       "      <th>top</th>\n",
       "      <th>popular_reviews</th>\n",
       "      <th>tagline</th>\n",
       "      <th>duration</th>\n",
       "      <th>actors</th>\n",
       "      <th>director</th>\n",
       "      <th>writer</th>\n",
       "      <th>producer</th>\n",
       "      <th>cinematography</th>\n",
       "      <th>composer</th>\n",
       "      <th>studio</th>\n",
       "      <th>country</th>\n",
       "      <th>genres</th>\n",
       "      <th>themes</th>\n",
       "      <th>link</th>\n",
       "    </tr>\n",
       "  </thead>\n",
       "  <tbody>\n",
       "    <tr>\n",
       "      <th>21862</th>\n",
       "      <td>The Outing</td>\n",
       "      <td>1987.0</td>\n",
       "      <td>A group of high schoolers decide to stay in a ...</td>\n",
       "      <td>37.0</td>\n",
       "      <td>121.0</td>\n",
       "      <td>162.0</td>\n",
       "      <td>538.0</td>\n",
       "      <td>705.0</td>\n",
       "      <td>1092.0</td>\n",
       "      <td>546.0</td>\n",
       "      <td>297.0</td>\n",
       "      <td>23.0</td>\n",
       "      <td>34.0</td>\n",
       "      <td>5.55</td>\n",
       "      <td>4.5K</td>\n",
       "      <td>905</td>\n",
       "      <td>None</td>\n",
       "      <td>[Delightful supernatural slasher Djinn Jam. Lo...</td>\n",
       "      <td>They’re not coming back.</td>\n",
       "      <td>87.0</td>\n",
       "      <td>[Deborah Winters, James Huston, Andra St. Ivan...</td>\n",
       "      <td>Tom Daley</td>\n",
       "      <td>Warren Chaney</td>\n",
       "      <td>Warren Chaney</td>\n",
       "      <td>Herbert Raditschnig</td>\n",
       "      <td>Joel Rosenbaum</td>\n",
       "      <td>[TMS Pictures, H.I.T. Films, Skouras Pictures]</td>\n",
       "      <td>[USA]</td>\n",
       "      <td>[Horror]</td>\n",
       "      <td>[Underdogs and coming of age, Gory, gruesome, ...</td>\n",
       "      <td>https://letterboxd.com/film/the-outing/</td>\n",
       "    </tr>\n",
       "    <tr>\n",
       "      <th>9298</th>\n",
       "      <td>The Third Murder</td>\n",
       "      <td>2017.0</td>\n",
       "      <td>A lawyer tasked with defending a robbery-and-m...</td>\n",
       "      <td>34.0</td>\n",
       "      <td>78.0</td>\n",
       "      <td>101.0</td>\n",
       "      <td>565.0</td>\n",
       "      <td>1005.0</td>\n",
       "      <td>3691.0</td>\n",
       "      <td>4167.0</td>\n",
       "      <td>3301.0</td>\n",
       "      <td>683.0</td>\n",
       "      <td>416.0</td>\n",
       "      <td>6.82</td>\n",
       "      <td>19K</td>\n",
       "      <td>3.3K</td>\n",
       "      <td>None</td>\n",
       "      <td>[we as audience members are inclined to believ...</td>\n",
       "      <td>Everyone has a truth to want to believe.</td>\n",
       "      <td>125.0</td>\n",
       "      <td>[Masaharu Fukuyama, Koji Yakusho, Suzu Hirose,...</td>\n",
       "      <td>Hirokazu Kore-eda</td>\n",
       "      <td>Hirokazu Kore-eda</td>\n",
       "      <td>Satomi Odake</td>\n",
       "      <td>Mikiya Takimoto</td>\n",
       "      <td>Ludovico Einaudi</td>\n",
       "      <td>[Fuji Television Network, AMUSE, Fuji IG Labor...</td>\n",
       "      <td>[Japan]</td>\n",
       "      <td>[Mystery, Crime, Drama]</td>\n",
       "      <td>[Thrillers and murder mysteries, Suspenseful c...</td>\n",
       "      <td>https://letterboxd.com/film/the-third-murder/</td>\n",
       "    </tr>\n",
       "    <tr>\n",
       "      <th>4687</th>\n",
       "      <td>Stray Dog</td>\n",
       "      <td>1949.0</td>\n",
       "      <td>A bad day gets worse for young detective Murak...</td>\n",
       "      <td>20.0</td>\n",
       "      <td>44.0</td>\n",
       "      <td>44.0</td>\n",
       "      <td>295.0</td>\n",
       "      <td>572.0</td>\n",
       "      <td>2931.0</td>\n",
       "      <td>6253.0</td>\n",
       "      <td>12562.0</td>\n",
       "      <td>5020.0</td>\n",
       "      <td>3348.0</td>\n",
       "      <td>7.87</td>\n",
       "      <td>44K</td>\n",
       "      <td>14K</td>\n",
       "      <td>None</td>\n",
       "      <td>[a noir where instead of being a piece of shit...</td>\n",
       "      <td>… The Suspense Filled Story of 7 Bullets!</td>\n",
       "      <td>122.0</td>\n",
       "      <td>[Toshirō Mifune, Takashi Shimura, Keiko Awaji,...</td>\n",
       "      <td>Akira Kurosawa</td>\n",
       "      <td>Akira Kurosawa</td>\n",
       "      <td>Sōjirō Motoki</td>\n",
       "      <td>Asakazu Nakai</td>\n",
       "      <td>Fumio Hayasaka</td>\n",
       "      <td>[Film Art Association, Shintoho Company]</td>\n",
       "      <td>[Japan]</td>\n",
       "      <td>[Crime, Drama, Thriller, Mystery]</td>\n",
       "      <td>[Thrillers and murder mysteries, Intriguing an...</td>\n",
       "      <td>https://letterboxd.com/film/stray-dog/</td>\n",
       "    </tr>\n",
       "    <tr>\n",
       "      <th>11264</th>\n",
       "      <td>The Handmaid’s Tale</td>\n",
       "      <td>1990.0</td>\n",
       "      <td>In a dystopian, polluted right-wing religious ...</td>\n",
       "      <td>148.0</td>\n",
       "      <td>277.0</td>\n",
       "      <td>326.0</td>\n",
       "      <td>1112.0</td>\n",
       "      <td>1469.0</td>\n",
       "      <td>2779.0</td>\n",
       "      <td>1738.0</td>\n",
       "      <td>1690.0</td>\n",
       "      <td>782.0</td>\n",
       "      <td>574.0</td>\n",
       "      <td>6.30</td>\n",
       "      <td>16K</td>\n",
       "      <td>1.3K</td>\n",
       "      <td>None</td>\n",
       "      <td>[\"You're the lucky ones—you're going to be han...</td>\n",
       "      <td>A haunting tale of sexuality in a country gone...</td>\n",
       "      <td>108.0</td>\n",
       "      <td>[Natasha Richardson, Faye Dunaway, Aidan Quinn...</td>\n",
       "      <td>Volker Schlöndorff</td>\n",
       "      <td>Harold Pinter</td>\n",
       "      <td>Daniel Wilson</td>\n",
       "      <td>Igor Luther</td>\n",
       "      <td>Ryuichi Sakamoto</td>\n",
       "      <td>[Cinecom Entertainment Group, Cinetudes Films,...</td>\n",
       "      <td>[Germany, USA]</td>\n",
       "      <td>[Science Fiction, Drama]</td>\n",
       "      <td>[Faith and religion, Politics and human rights...</td>\n",
       "      <td>https://letterboxd.com/film/the-handmaids-tale/</td>\n",
       "    </tr>\n",
       "    <tr>\n",
       "      <th>13035</th>\n",
       "      <td>Material Girls</td>\n",
       "      <td>2006.0</td>\n",
       "      <td>Two wealthy sisters, both heiresses to their f...</td>\n",
       "      <td>503.0</td>\n",
       "      <td>1140.0</td>\n",
       "      <td>846.0</td>\n",
       "      <td>2199.0</td>\n",
       "      <td>1281.0</td>\n",
       "      <td>1818.0</td>\n",
       "      <td>552.0</td>\n",
       "      <td>756.0</td>\n",
       "      <td>101.0</td>\n",
       "      <td>521.0</td>\n",
       "      <td>4.88</td>\n",
       "      <td>32K</td>\n",
       "      <td>1.8K</td>\n",
       "      <td>None</td>\n",
       "      <td>[Please don’t talk to me about this rating., t...</td>\n",
       "      <td>It’s A Short Trip From The Penthouse To The Po...</td>\n",
       "      <td>97.0</td>\n",
       "      <td>[Hilary Duff, Haylie Duff, María Conchita Alon...</td>\n",
       "      <td>Martha Coolidge</td>\n",
       "      <td>John Quaintance</td>\n",
       "      <td>Brent Emery</td>\n",
       "      <td>Johnny E. Jensen</td>\n",
       "      <td>Jennie Muskett</td>\n",
       "      <td>[Patriot Pictures, Maverick Films, Rafter H En...</td>\n",
       "      <td>[USA]</td>\n",
       "      <td>[Comedy, Romance, Family]</td>\n",
       "      <td>[Relationship comedy, Teen school antics and l...</td>\n",
       "      <td>https://letterboxd.com/film/material-girls/</td>\n",
       "    </tr>\n",
       "  </tbody>\n",
       "</table>\n",
       "</div>"
      ],
      "text/plain": [
       "                      name    year  \\\n",
       "21862           The Outing  1987.0   \n",
       "9298      The Third Murder  2017.0   \n",
       "4687             Stray Dog  1949.0   \n",
       "11264  The Handmaid’s Tale  1990.0   \n",
       "13035       Material Girls  2006.0   \n",
       "\n",
       "                                             description      1       2  \\\n",
       "21862  A group of high schoolers decide to stay in a ...   37.0   121.0   \n",
       "9298   A lawyer tasked with defending a robbery-and-m...   34.0    78.0   \n",
       "4687   A bad day gets worse for young detective Murak...   20.0    44.0   \n",
       "11264  In a dystopian, polluted right-wing religious ...  148.0   277.0   \n",
       "13035  Two wealthy sisters, both heiresses to their f...  503.0  1140.0   \n",
       "\n",
       "           3       4       5       6       7        8       9      10  rating  \\\n",
       "21862  162.0   538.0   705.0  1092.0   546.0    297.0    23.0    34.0    5.55   \n",
       "9298   101.0   565.0  1005.0  3691.0  4167.0   3301.0   683.0   416.0    6.82   \n",
       "4687    44.0   295.0   572.0  2931.0  6253.0  12562.0  5020.0  3348.0    7.87   \n",
       "11264  326.0  1112.0  1469.0  2779.0  1738.0   1690.0   782.0   574.0    6.30   \n",
       "13035  846.0  2199.0  1281.0  1818.0   552.0    756.0   101.0   521.0    4.88   \n",
       "\n",
       "      watched liked   top                                    popular_reviews  \\\n",
       "21862    4.5K   905  None  [Delightful supernatural slasher Djinn Jam. Lo...   \n",
       "9298      19K  3.3K  None  [we as audience members are inclined to believ...   \n",
       "4687      44K   14K  None  [a noir where instead of being a piece of shit...   \n",
       "11264     16K  1.3K  None  [\"You're the lucky ones—you're going to be han...   \n",
       "13035     32K  1.8K  None  [Please don’t talk to me about this rating., t...   \n",
       "\n",
       "                                                 tagline  duration  \\\n",
       "21862                           They’re not coming back.      87.0   \n",
       "9298            Everyone has a truth to want to believe.     125.0   \n",
       "4687           … The Suspense Filled Story of 7 Bullets!     122.0   \n",
       "11264  A haunting tale of sexuality in a country gone...     108.0   \n",
       "13035  It’s A Short Trip From The Penthouse To The Po...      97.0   \n",
       "\n",
       "                                                  actors            director  \\\n",
       "21862  [Deborah Winters, James Huston, Andra St. Ivan...           Tom Daley   \n",
       "9298   [Masaharu Fukuyama, Koji Yakusho, Suzu Hirose,...   Hirokazu Kore-eda   \n",
       "4687   [Toshirō Mifune, Takashi Shimura, Keiko Awaji,...      Akira Kurosawa   \n",
       "11264  [Natasha Richardson, Faye Dunaway, Aidan Quinn...  Volker Schlöndorff   \n",
       "13035  [Hilary Duff, Haylie Duff, María Conchita Alon...     Martha Coolidge   \n",
       "\n",
       "                  writer       producer       cinematography  \\\n",
       "21862      Warren Chaney  Warren Chaney  Herbert Raditschnig   \n",
       "9298   Hirokazu Kore-eda   Satomi Odake      Mikiya Takimoto   \n",
       "4687      Akira Kurosawa  Sōjirō Motoki        Asakazu Nakai   \n",
       "11264      Harold Pinter  Daniel Wilson          Igor Luther   \n",
       "13035    John Quaintance    Brent Emery     Johnny E. Jensen   \n",
       "\n",
       "               composer                                             studio  \\\n",
       "21862    Joel Rosenbaum     [TMS Pictures, H.I.T. Films, Skouras Pictures]   \n",
       "9298   Ludovico Einaudi  [Fuji Television Network, AMUSE, Fuji IG Labor...   \n",
       "4687     Fumio Hayasaka           [Film Art Association, Shintoho Company]   \n",
       "11264  Ryuichi Sakamoto  [Cinecom Entertainment Group, Cinetudes Films,...   \n",
       "13035    Jennie Muskett  [Patriot Pictures, Maverick Films, Rafter H En...   \n",
       "\n",
       "              country                             genres  \\\n",
       "21862           [USA]                           [Horror]   \n",
       "9298          [Japan]            [Mystery, Crime, Drama]   \n",
       "4687          [Japan]  [Crime, Drama, Thriller, Mystery]   \n",
       "11264  [Germany, USA]           [Science Fiction, Drama]   \n",
       "13035           [USA]          [Comedy, Romance, Family]   \n",
       "\n",
       "                                                  themes  \\\n",
       "21862  [Underdogs and coming of age, Gory, gruesome, ...   \n",
       "9298   [Thrillers and murder mysteries, Suspenseful c...   \n",
       "4687   [Thrillers and murder mysteries, Intriguing an...   \n",
       "11264  [Faith and religion, Politics and human rights...   \n",
       "13035  [Relationship comedy, Teen school antics and l...   \n",
       "\n",
       "                                                  link  \n",
       "21862          https://letterboxd.com/film/the-outing/  \n",
       "9298     https://letterboxd.com/film/the-third-murder/  \n",
       "4687            https://letterboxd.com/film/stray-dog/  \n",
       "11264  https://letterboxd.com/film/the-handmaids-tale/  \n",
       "13035      https://letterboxd.com/film/material-girls/  "
      ]
     },
     "execution_count": 9,
     "metadata": {},
     "output_type": "execute_result"
    }
   ],
   "source": [
    "df_films.head()"
   ]
  },
  {
   "cell_type": "markdown",
   "id": "bad5bd8a-69b1-4105-ae96-cf8d0e20844c",
   "metadata": {},
   "source": [
    "## First data preparation"
   ]
  },
  {
   "cell_type": "code",
   "execution_count": 10,
   "id": "5a5d1aea-f65a-40d2-b55a-a002d4d76cba",
   "metadata": {},
   "outputs": [],
   "source": [
    "def convert_watched(value):\n",
    "    if isinstance(value, str):\n",
    "        if \"K\" in value:\n",
    "            return float(value.replace(\"K\", \"\")) * 1e3\n",
    "        elif \"M\" in value:\n",
    "            return float(value.replace(\"M\", \"\")) * 1e6\n",
    "        else:\n",
    "            return float(value)\n",
    "    return value\n",
    "\n",
    "df_films[\"watched\"] = df_films[\"watched\"].map(convert_watched)\n",
    "df_films[\"liked\"] = df_films[\"liked\"].map(convert_watched)"
   ]
  },
  {
   "cell_type": "markdown",
   "id": "90395be2-f967-4db8-8983-65e718b68c92",
   "metadata": {},
   "source": [
    "## Features"
   ]
  },
  {
   "cell_type": "markdown",
   "id": "6401453e-73e4-477b-8419-7e10e2ebaaed",
   "metadata": {},
   "source": [
    "### Year"
   ]
  },
  {
   "cell_type": "code",
   "execution_count": 11,
   "id": "2d3d0f0b-0a1f-4bad-aa2d-cf58a1bcb393",
   "metadata": {},
   "outputs": [
    {
     "data": {
      "text/plain": [
       "(np.float64(0.3647), np.int64(129))"
      ]
     },
     "execution_count": 11,
     "metadata": {},
     "output_type": "execute_result"
    }
   ],
   "source": [
    "round(df_films[\"year\"].isna().sum()/df_films[\"year\"].count()*100, 4), df_films[\"year\"].isna().sum()"
   ]
  },
  {
   "cell_type": "code",
   "execution_count": 12,
   "id": "878e1f02-43fd-4650-9ef3-b0cc999b7645",
   "metadata": {},
   "outputs": [
    {
     "data": {
      "text/plain": [
       "(np.float64(703.1020408163265), np.float64(72755.1212411645))"
      ]
     },
     "execution_count": 12,
     "metadata": {},
     "output_type": "execute_result"
    }
   ],
   "source": [
    "df_films[df_films[\"year\"].isna()][\"watched\"].mean(), df_films[df_films[\"year\"].notna()][\"watched\"].mean()"
   ]
  },
  {
   "cell_type": "code",
   "execution_count": 13,
   "id": "4e190885-3f2b-4660-ba98-3793e504f3a8",
   "metadata": {},
   "outputs": [
    {
     "data": {
      "text/plain": [
       "(np.float64(18.0), np.float64(21000.0))"
      ]
     },
     "execution_count": 13,
     "metadata": {},
     "output_type": "execute_result"
    }
   ],
   "source": [
    "df_films[df_films[\"year\"].isna()][\"watched\"].min(), df_films[df_films[\"year\"].isna()][\"watched\"].max()"
   ]
  },
  {
   "cell_type": "markdown",
   "id": "f3370882-6c99-4eac-a5fe-58203d478670",
   "metadata": {},
   "source": [
    "We can easily drop all nulls from dataset - all such flims has small count of viewers"
   ]
  },
  {
   "cell_type": "code",
   "execution_count": 16,
   "id": "cd931df1-f60c-4882-a2a0-efa4167de4cc",
   "metadata": {},
   "outputs": [],
   "source": [
    "df_films = df_films.dropna(subset=[\"year\"])\n",
    "df_films[\"year\"] = df_films[\"year\"].astype(np.int32)"
   ]
  },
  {
   "cell_type": "code",
   "execution_count": 17,
   "id": "8bf2afa4-12cd-4961-95bd-c713e4ac3ba9",
   "metadata": {},
   "outputs": [
    {
     "data": {
      "text/plain": [
       "21862    1987\n",
       "9298     2017\n",
       "4687     1949\n",
       "11264    1990\n",
       "13035    2006\n",
       "         ... \n",
       "28944    2010\n",
       "9970     1971\n",
       "22630    2022\n",
       "32273    2020\n",
       "32054    2010\n",
       "Name: year, Length: 35371, dtype: int32"
      ]
     },
     "execution_count": 17,
     "metadata": {},
     "output_type": "execute_result"
    }
   ],
   "source": [
    "df_films[\"year\"]"
   ]
  },
  {
   "cell_type": "code",
   "execution_count": 46,
   "id": "b5100577-be33-4f52-9b7d-2a3218885995",
   "metadata": {},
   "outputs": [
    {
     "data": {
      "image/png": "[encoded data removed]",
      "text/plain": [
       "<Figure size 1500x700 with 1 Axes>"
      ]
     },
     "metadata": {},
     "output_type": "display_data"
    }
   ],
   "source": [
    "plt.figure(figsize=(15, 7))\n",
    "sns.histplot(data=df_films, x=\"year\", bins=175)\n",
    "plt.xticks(rotation=45)\n",
    "plt.title(\"Count of films by each year\")\n",
    "plt.show()"
   ]
  },
  {
   "cell_type": "code",
   "execution_count": 32,
   "id": "e2d6cf89-5815-4fdb-be48-561cbb05b475",
   "metadata": {},
   "outputs": [
    {
     "data": {
      "text/plain": [
       "(320, 31)"
      ]
     },
     "execution_count": 32,
     "metadata": {},
     "output_type": "execute_result"
    }
   ],
   "source": [
    "df_films[df_films[\"year\"] > 2024].shape"
   ]
  },
  {
   "cell_type": "code",
   "execution_count": 33,
   "id": "ec11d669-3408-47d3-89b2-1349554af5f1",
   "metadata": {},
   "outputs": [],
   "source": [
    "df_films = df_films[df_films[\"year\"] <= 2024]"
   ]
  },
  {
   "cell_type": "code",
   "execution_count": 44,
   "id": "28ff64e0-d321-43c1-bcf8-bd84ab1cac1a",
   "metadata": {},
   "outputs": [
    {
     "data": {
      "image/png": "[encoded data removed]",
      "text/plain": [
       "<Figure size 1500x700 with 1 Axes>"
      ]
     },
     "metadata": {},
     "output_type": "display_data"
    }
   ],
   "source": [
    "plt.figure(figsize=(15, 7))\n",
    "sns.countplot(data=df_films[(df_films[\"year\"]>=1985) & (df_films[\"year\"]<2025)], x=\"year\")\n",
    "plt.xticks(rotation=45)\n",
    "plt.title(\"Count of films by each year from 1990 to 2024\")\n",
    "plt.show()"
   ]
  },
  {
   "cell_type": "code",
   "execution_count": 40,
   "id": "14ce5525-1ed7-4ac8-b20c-f487e7e493fa",
   "metadata": {},
   "outputs": [],
   "source": [
    "df_films[\"decade\"] = df_films[\"year\"]//10*10"
   ]
  },
  {
   "cell_type": "code",
   "execution_count": 41,
   "id": "0e446e52-e718-4230-be52-c8b3b372d5a8",
   "metadata": {},
   "outputs": [
    {
     "data": {
      "image/png": "[encoded data removed]",
      "text/plain": [
       "<Figure size 1500x700 with 1 Axes>"
      ]
     },
     "metadata": {},
     "output_type": "display_data"
    }
   ],
   "source": [
    "plt.figure(figsize=(15, 7))\n",
    "sns.countplot(data=df_films, x=\"decade\")\n",
    "plt.xticks(rotation=45)\n",
    "plt.title(\"Count of films by each decade\")\n",
    "plt.show()"
   ]
  },
  {
   "cell_type": "code",
   "execution_count": 42,
   "id": "e2f84926-a6b7-44ac-8945-1e2e9b2ad1c5",
   "metadata": {},
   "outputs": [
    {
     "data": {
      "text/plain": [
       "decade\n",
       "1870       4\n",
       "1880       9\n",
       "1890      53\n",
       "1900      68\n",
       "1910      95\n",
       "1920     276\n",
       "1930     544\n",
       "1940     687\n",
       "1950    1037\n",
       "1960    1645\n",
       "1970    2373\n",
       "1980    3044\n",
       "1990    3494\n",
       "2000    5275\n",
       "2010    9577\n",
       "2020    6870\n",
       "Name: name, dtype: int64"
      ]
     },
     "execution_count": 42,
     "metadata": {},
     "output_type": "execute_result"
    }
   ],
   "source": [
    "df_films.groupby(by=\"decade\")[\"name\"].count()"
   ]
  },
  {
   "cell_type": "markdown",
   "id": "fa5cdbd0-d6a2-4d23-9633-59fc20fb4949",
   "metadata": {},
   "source": [
    "Let's drop too old films. As threshold let's take 1920 - only 229 films were directed before 1920"
   ]
  },
  {
   "cell_type": "code",
   "execution_count": 43,
   "id": "cd836741-4989-4714-952a-af25874c7bac",
   "metadata": {},
   "outputs": [],
   "source": [
    "df_films = df_films[df_films[\"year\"] >= 1920]"
   ]
  },
  {
   "cell_type": "markdown",
   "id": "50ca0582-0462-4b9f-ae3c-110473815ff7",
   "metadata": {},
   "source": [
    "I've decided to leave \"decade\" feature as categorical. Maybe it would help to catch more complex dependancy, than linear on year.\n",
    "\n",
    "TO DO: One-hot encode \"decade\""
   ]
  },
  {
   "cell_type": "markdown",
   "id": "941c6217-7706-4205-b46a-d5b05271d7be",
   "metadata": {},
   "source": [
    "Count of films represented in this dataset increases by next year. New century brings way more flims.\n",
    "\n",
    "129 films with None were dropped.\n",
    "Also films were constraint by year - were dropped films shoted before 1920 (229) and after 2024 (320)"
   ]
  },
  {
   "cell_type": "markdown",
   "id": "595a880b-5080-4bf9-87f6-b79ef864a903",
   "metadata": {},
   "source": [
    "### Watched"
   ]
  },
  {
   "cell_type": "markdown",
   "id": "13c169a6-0eef-42af-9a7e-562b7d630d57",
   "metadata": {},
   "source": [
    "### Liked"
   ]
  },
  {
   "cell_type": "markdown",
   "id": "655103a7-b51f-4773-8988-f16ac23bd53c",
   "metadata": {},
   "source": [
    "### Rating"
   ]
  },
  {
   "cell_type": "code",
   "execution_count": null,
   "id": "37c36b38-d5fe-455a-bbf1-323e9facea17",
   "metadata": {},
   "outputs": [],
   "source": []
  }
 ],
 "metadata": {
  "kernelspec": {
   "display_name": "Python 3 (ipykernel)",
   "language": "python",
   "name": "python3"
  },
  "language_info": {
   "codemirror_mode": {
    "name": "ipython",
    "version": 3
   },
   "file_extension": ".py",
   "mimetype": "text/x-python",
   "name": "python",
   "nbconvert_exporter": "python",
   "pygments_lexer": "ipython3",
   "version": "3.13.1"
  }
 },
 "nbformat": 4,
 "nbformat_minor": 5
}
